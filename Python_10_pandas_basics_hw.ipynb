{
 "cells": [
  {
   "cell_type": "code",
   "execution_count": 1,
   "metadata": {},
   "outputs": [],
   "source": [
    "import pandas as pd"
   ]
  },
  {
   "cell_type": "markdown",
   "metadata": {},
   "source": [
    "Задание 1"
   ]
  },
  {
   "cell_type": "code",
   "execution_count": 10,
   "metadata": {},
   "outputs": [],
   "source": [
    "df = pd.read_csv (\"ratings.dat\",sep=r'\\:{2,}', engine='python')"
   ]
  },
  {
   "cell_type": "code",
   "execution_count": 11,
   "metadata": {},
   "outputs": [
    {
     "data": {
      "text/html": [
       "<div>\n",
       "<style scoped>\n",
       "    .dataframe tbody tr th:only-of-type {\n",
       "        vertical-align: middle;\n",
       "    }\n",
       "\n",
       "    .dataframe tbody tr th {\n",
       "        vertical-align: top;\n",
       "    }\n",
       "\n",
       "    .dataframe thead th {\n",
       "        text-align: right;\n",
       "    }\n",
       "</style>\n",
       "<table border=\"1\" class=\"dataframe\">\n",
       "  <thead>\n",
       "    <tr style=\"text-align: right;\">\n",
       "      <th></th>\n",
       "      <th>UserID</th>\n",
       "      <th>MovieID</th>\n",
       "      <th>Rating</th>\n",
       "      <th>Timestamp</th>\n",
       "    </tr>\n",
       "  </thead>\n",
       "  <tbody>\n",
       "    <tr>\n",
       "      <th>0</th>\n",
       "      <td>1</td>\n",
       "      <td>1193</td>\n",
       "      <td>5</td>\n",
       "      <td>978300760</td>\n",
       "    </tr>\n",
       "    <tr>\n",
       "      <th>1</th>\n",
       "      <td>1</td>\n",
       "      <td>661</td>\n",
       "      <td>3</td>\n",
       "      <td>978302109</td>\n",
       "    </tr>\n",
       "    <tr>\n",
       "      <th>2</th>\n",
       "      <td>1</td>\n",
       "      <td>914</td>\n",
       "      <td>3</td>\n",
       "      <td>978301968</td>\n",
       "    </tr>\n",
       "    <tr>\n",
       "      <th>3</th>\n",
       "      <td>1</td>\n",
       "      <td>3408</td>\n",
       "      <td>4</td>\n",
       "      <td>978300275</td>\n",
       "    </tr>\n",
       "    <tr>\n",
       "      <th>4</th>\n",
       "      <td>1</td>\n",
       "      <td>2355</td>\n",
       "      <td>5</td>\n",
       "      <td>978824291</td>\n",
       "    </tr>\n",
       "  </tbody>\n",
       "</table>\n",
       "</div>"
      ],
      "text/plain": [
       "   UserID  MovieID  Rating  Timestamp\n",
       "0       1     1193       5  978300760\n",
       "1       1      661       3  978302109\n",
       "2       1      914       3  978301968\n",
       "3       1     3408       4  978300275\n",
       "4       1     2355       5  978824291"
      ]
     },
     "execution_count": 11,
     "metadata": {},
     "output_type": "execute_result"
    }
   ],
   "source": [
    "df.head()"
   ]
  },
  {
   "cell_type": "code",
   "execution_count": 12,
   "metadata": {},
   "outputs": [],
   "source": [
    "filtered_ratings=df[(df['Rating']==5)]"
   ]
  },
  {
   "cell_type": "code",
   "execution_count": 14,
   "metadata": {},
   "outputs": [
    {
     "data": {
      "text/plain": [
       "2858    1963\n",
       "Name: MovieID, dtype: int64"
      ]
     },
     "execution_count": 14,
     "metadata": {},
     "output_type": "execute_result"
    }
   ],
   "source": [
    "filtered_ratings['MovieID'].value_counts().head(1)"
   ]
  },
  {
   "cell_type": "markdown",
   "metadata": {},
   "source": [
    "Задание 2"
   ]
  },
  {
   "cell_type": "code",
   "execution_count": 15,
   "metadata": {},
   "outputs": [],
   "source": [
    "power=pd.read_csv('power.csv')"
   ]
  },
  {
   "cell_type": "code",
   "execution_count": 16,
   "metadata": {},
   "outputs": [
    {
     "data": {
      "text/html": [
       "<div>\n",
       "<style scoped>\n",
       "    .dataframe tbody tr th:only-of-type {\n",
       "        vertical-align: middle;\n",
       "    }\n",
       "\n",
       "    .dataframe tbody tr th {\n",
       "        vertical-align: top;\n",
       "    }\n",
       "\n",
       "    .dataframe thead th {\n",
       "        text-align: right;\n",
       "    }\n",
       "</style>\n",
       "<table border=\"1\" class=\"dataframe\">\n",
       "  <thead>\n",
       "    <tr style=\"text-align: right;\">\n",
       "      <th></th>\n",
       "      <th>country</th>\n",
       "      <th>year</th>\n",
       "      <th>quantity</th>\n",
       "      <th>category</th>\n",
       "    </tr>\n",
       "  </thead>\n",
       "  <tbody>\n",
       "    <tr>\n",
       "      <th>0</th>\n",
       "      <td>Austria</td>\n",
       "      <td>1996</td>\n",
       "      <td>5.0</td>\n",
       "      <td>1</td>\n",
       "    </tr>\n",
       "    <tr>\n",
       "      <th>1</th>\n",
       "      <td>Austria</td>\n",
       "      <td>1995</td>\n",
       "      <td>17.0</td>\n",
       "      <td>1</td>\n",
       "    </tr>\n",
       "    <tr>\n",
       "      <th>2</th>\n",
       "      <td>Belgium</td>\n",
       "      <td>2014</td>\n",
       "      <td>0.0</td>\n",
       "      <td>1</td>\n",
       "    </tr>\n",
       "    <tr>\n",
       "      <th>3</th>\n",
       "      <td>Belgium</td>\n",
       "      <td>2013</td>\n",
       "      <td>0.0</td>\n",
       "      <td>1</td>\n",
       "    </tr>\n",
       "    <tr>\n",
       "      <th>4</th>\n",
       "      <td>Belgium</td>\n",
       "      <td>2012</td>\n",
       "      <td>35.0</td>\n",
       "      <td>1</td>\n",
       "    </tr>\n",
       "  </tbody>\n",
       "</table>\n",
       "</div>"
      ],
      "text/plain": [
       "   country  year  quantity  category\n",
       "0  Austria  1996       5.0         1\n",
       "1  Austria  1995      17.0         1\n",
       "2  Belgium  2014       0.0         1\n",
       "3  Belgium  2013       0.0         1\n",
       "4  Belgium  2012      35.0         1"
      ]
     },
     "execution_count": 16,
     "metadata": {},
     "output_type": "execute_result"
    }
   ],
   "source": [
    "power.head()"
   ]
  },
  {
   "cell_type": "code",
   "execution_count": 17,
   "metadata": {},
   "outputs": [],
   "source": [
    "filtered_countries = power[ ((power['country']=='Latvia') | (power['country']=='Lithuania') | \\\n",
    "                             (power['country']=='Estonia'))&((power['category']==4)|(power['category']==12)|\\\n",
    "                                                             (power['category']==21))&((power['year']>=2005) \\\n",
    "                                                                                       & (power['year']<=2010))\\\n",
    "                           &(power['quantity']>=0)]"
   ]
  },
  {
   "cell_type": "code",
   "execution_count": 18,
   "metadata": {},
   "outputs": [
    {
     "data": {
      "text/plain": [
       "240580.0"
      ]
     },
     "execution_count": 18,
     "metadata": {},
     "output_type": "execute_result"
    }
   ],
   "source": [
    "filtered_countries['quantity'].sum()"
   ]
  },
  {
   "cell_type": "markdown",
   "metadata": {},
   "source": [
    "Задание 3"
   ]
  },
  {
   "cell_type": "code",
   "execution_count": 19,
   "metadata": {},
   "outputs": [],
   "source": [
    "page_url = 'https://www.finanz.ru/valyuty/v-realnom-vremeni'"
   ]
  },
  {
   "cell_type": "code",
   "execution_count": 20,
   "metadata": {},
   "outputs": [],
   "source": [
    "df_page_url = pd.read_html(page_url, attrs = {'class': 'quote_list'}, encoding='utf-8')"
   ]
  },
  {
   "cell_type": "code",
   "execution_count": 21,
   "metadata": {},
   "outputs": [
    {
     "data": {
      "text/plain": [
       "[    Unnamed: 0              Рубль  Предложение  Спрос  Предыдущее закрытие  \\\n",
       " 0          NaN            GBP/RUB       930802      -               922986   \n",
       " 1          NaN            EUR/RUB       848680      -               846285   \n",
       " 2          NaN            USD/RUB       783960      -               782900   \n",
       " 3          NaN            JPY/RUB        07046      -                07047   \n",
       " 4          NaN            CNY/RUB       110463      -               110847   \n",
       " 5          NaN            CHF/RUB       800772      -               798085   \n",
       " 6          NaN               Евро  Предложение  Спрос  Предыдущее закрытие   \n",
       " 7          NaN            EUR/USD        10825      -                10810   \n",
       " 8          NaN            EUR/GBP        09103      -                09170   \n",
       " 9          NaN            EUR/JPY      1202850      -              1201200   \n",
       " 10         NaN            EUR/CHF        10608      -                10603   \n",
       " 11         NaN         Доллар США  Предложение  Спрос  Предыдущее закрытие   \n",
       " 12         NaN            USD/EUR        09237      -                09250   \n",
       " 13         NaN            USD/GBP        08410      -                08483   \n",
       " 14         NaN            USD/JPY      1111085      -              1111200   \n",
       " 15         NaN            USD/CHF        09800      -                09809   \n",
       " 16         NaN      Японская иена  Предложение  Спрос  Предыдущее закрытие   \n",
       " 17         NaN    JPY/EUR (100:1)        08300      -                08300   \n",
       " 18         NaN            JPY/GBP        00076      -                00076   \n",
       " 19         NaN            JPY/USD        00090      -                00090   \n",
       " 20         NaN    JPY/CHF (100:1)        08800      -                08800   \n",
       " 21         NaN    Фунт стерлингов  Предложение  Спрос  Предыдущее закрытие   \n",
       " 22         NaN            GBP/USD        11892      -                11788   \n",
       " 23         NaN            GBP/JPY      1321099      -              1309840   \n",
       " 24         NaN            GBP/EUR        10984      -                10906   \n",
       " 25         NaN            GBP/CHF        11653      -                11560   \n",
       " 26         NaN  Швейцарский франк  Предложение  Спрос  Предыдущее закрытие   \n",
       " 27         NaN            GBP/CHF        11653      -                11560   \n",
       " 28         NaN            EUR/CHF        10608      -                10603   \n",
       " 29         NaN    JPY/CHF (100:1)        08800      -                08800   \n",
       " 30         NaN            USD/CHF        09800      -                09809   \n",
       " 31         NaN  Украинская гривна  Предложение  Спрос  Предыдущее закрытие   \n",
       " 32         NaN            EUR/UAH       301312      -               300866   \n",
       " 33         NaN            USD/UAH       278309      -               278309   \n",
       " 34         NaN            CHF/UAH       284018      -               283700   \n",
       " 35         NaN            GBP/UAH       330604      -               328099   \n",
       " \n",
       "           %  Абсолютное значение     Время  \n",
       " 0    0,85 %                07816  14:34:00  \n",
       " 1    0,28 %                02395  14:40:00  \n",
       " 2    0,14 %                01060  14:40:00  \n",
       " 3    0,00 %                00000  14:34:00  \n",
       " 4   -0,35 %               -00383  14:40:00  \n",
       " 5    0,34 %                02687  14:40:00  \n",
       " 6         %  Абсолютное значение     Время  \n",
       " 7    0,14 %                00015  14:40:00  \n",
       " 8   -0,74 %               -00068  14:40:00  \n",
       " 9    0,14 %                01650  14:40:00  \n",
       " 10   0,05 %                00006  14:40:00  \n",
       " 11        %  Абсолютное значение     Время  \n",
       " 12  -0,15 %               -00014  14:40:00  \n",
       " 13  -0,85 %               -00072  14:40:00  \n",
       " 14  -0,01 %               -00115  14:40:00  \n",
       " 15  -0,09 %               -00009  14:40:00  \n",
       " 16        %  Абсолютное значение     Время  \n",
       " 17  -0,26 %                00000  14:34:00  \n",
       " 18  -0,85 %               -00001  14:34:00  \n",
       " 19   0,00 %                00000  14:40:00  \n",
       " 20  -0,06 %                00000  14:40:00  \n",
       " 21        %  Абсолютное значение     Время  \n",
       " 22   0,88 %                00104  14:40:00  \n",
       " 23   0,86 %                11259  14:34:00  \n",
       " 24   0,72 %                00078  14:40:00  \n",
       " 25   0,80 %                00093  14:40:00  \n",
       " 26        %  Абсолютное значение     Время  \n",
       " 27   0,80 %                00093  14:40:00  \n",
       " 28   0,05 %                00006  14:40:00  \n",
       " 29  -0,06 %                00000  14:40:00  \n",
       " 30  -0,09 %               -00009  14:40:00  \n",
       " 31        %  Абсолютное значение     Время  \n",
       " 32   0,15 %                00445  14:34:00  \n",
       " 33   0,00 %                00000  14:39:00  \n",
       " 34   0,11 %                00319  14:40:00  \n",
       " 35   0,76 %                02505  14:34:00  ]"
      ]
     },
     "execution_count": 21,
     "metadata": {},
     "output_type": "execute_result"
    }
   ],
   "source": [
    "df_page_url[:5]"
   ]
  },
  {
   "cell_type": "code",
   "execution_count": null,
   "metadata": {},
   "outputs": [],
   "source": []
  }
 ],
 "metadata": {
  "kernelspec": {
   "display_name": "Python 3",
   "language": "python",
   "name": "python3"
  },
  "language_info": {
   "codemirror_mode": {
    "name": "ipython",
    "version": 3
   },
   "file_extension": ".py",
   "mimetype": "text/x-python",
   "name": "python",
   "nbconvert_exporter": "python",
   "pygments_lexer": "ipython3",
   "version": "3.7.3"
  }
 },
 "nbformat": 4,
 "nbformat_minor": 2
}
