{
 "cells": [
  {
   "cell_type": "markdown",
   "metadata": {},
   "source": [
    "Вы работаете секретарем и вам постоянно приходят различные документы. Вы должны быть очень внимательны, чтобы не потерять ни один документ. Каталог документов хранится в следующем виде:"
   ]
  },
  {
   "cell_type": "code",
   "execution_count": 1,
   "metadata": {},
   "outputs": [],
   "source": [
    "documents = [\n",
    "    {'type': 'passport', 'number': '2207 876234', 'name': 'Василий Гупкин'},\n",
    "    {'type': 'invoice', 'number': '11-2', 'name': 'Геннадий Покемонов'},\n",
    "    {'type': 'insurance', 'number': '10006', 'name': 'Аристарх Павлов'}\n",
    "]"
   ]
  },
  {
   "cell_type": "markdown",
   "metadata": {},
   "source": [
    "Перечень полок, на которых находятся документы хранится в следующем виде:"
   ]
  },
  {
   "cell_type": "code",
   "execution_count": 2,
   "metadata": {},
   "outputs": [],
   "source": [
    "directories = {\n",
    "    '1': ['2207 876234', '11-2'],\n",
    "    '2': ['10006'],\n",
    "    '3': []\n",
    "}"
   ]
  },
  {
   "cell_type": "markdown",
   "metadata": {},
   "source": [
    "Необходимо реализовать пользовательские команды (внимание! это не название функций, которые должны быть выразительными, а команды, которые вводит пользователь, чтобы получить необходимый результат):\n",
    "  \n",
    "- p – people – команда, которая спросит номер документа и выведет имя человека, которому он принадлежит;  \n",
    "- s – shelf – команда, которая спросит номер документа и выведет номер полки, на которой он находится  \n",
    "Правильно обработайте ситуацию, когда пользователь будет вводить несуществующий документ.\n",
    "- l – list – команда, которая выведет список всех документов в формате   \n",
    "**passport \"2207 876234\" \"Василий Гупкин\"**  \n",
    "- as – add shelf – команда, которая спросит номер новой полки и добавит ее в перечень\n",
    "- d – delete – команда, которая спросит номер документа и удалит его из каталога и из перечня полок. Предусмотрите сценарий, когда пользователь вводит несуществующий документ;  \n",
    "- m – move – команда, которая спросит номер документа и целевую полку и переместит его с текущей полки на целевую. Корректно обработайте кейсы, когда пользователь пытается переместить несуществующий документ или переместить документ на несуществующую полку;  \n",
    "- a – add – команда, которая добавит новый документ в каталог и в перечень полок, спросив его номер, тип, имя владельца и номер полки, на котором он будет храниться."
   ]
  },
  {
   "cell_type": "code",
   "execution_count": 12,
   "metadata": {},
   "outputs": [],
   "source": [
    "def get_people_doc_by_number(doc_by_number):\n",
    "    for numbers in documents:\n",
    "        if numbers[\"number\"]==doc_by_number:\n",
    "            print(numbers[\"name\"])\n",
    "            break\n",
    "    else:\n",
    "         print('Такого номера документа нет')"
   ]
  },
  {
   "cell_type": "code",
   "execution_count": 13,
   "metadata": {},
   "outputs": [
    {
     "name": "stdout",
     "output_type": "stream",
     "text": [
      "Аристарх Павлов\n"
     ]
    }
   ],
   "source": [
    "get_people_doc_by_number('10006')"
   ]
  },
  {
   "cell_type": "code",
   "execution_count": 14,
   "metadata": {},
   "outputs": [],
   "source": [
    "def get_shelf_by_number(number):\n",
    "    break_marker = False\n",
    "    for shelf_directories in directories.items():\n",
    "        for doc_numbers in shelf_directories[1]:\n",
    "            if doc_numbers == number:\n",
    "                print('Документ на полке', shelf_directories[0])\n",
    "                break_marker = True\n",
    "                break\n",
    "                if break_marker == True:\n",
    "                    break\n",
    "                else:\n",
    "                    print('Такого номера документа нет')"
   ]
  },
  {
   "cell_type": "code",
   "execution_count": 15,
   "metadata": {},
   "outputs": [
    {
     "name": "stdout",
     "output_type": "stream",
     "text": [
      "Документ на полке 2\n"
     ]
    }
   ],
   "source": [
    "get_shelf_by_number('10006')"
   ]
  },
  {
   "cell_type": "code",
   "execution_count": 18,
   "metadata": {},
   "outputs": [],
   "source": [
    "def get_all_doc():\n",
    "    for persons in documents:\n",
    "        print(persons['type'], '\"'+persons['number']+'\"', '\"'+persons['name']+'\"')"
   ]
  },
  {
   "cell_type": "code",
   "execution_count": 19,
   "metadata": {},
   "outputs": [
    {
     "name": "stdout",
     "output_type": "stream",
     "text": [
      "passport \"2207 876234\" \"Василий Гупкин\"\n",
      "invoice \"11-2\" \"Геннадий Покемонов\"\n",
      "insurance \"10006\" \"Аристарх Павлов\"\n"
     ]
    }
   ],
   "source": [
    "get_all_doc()"
   ]
  },
  {
   "cell_type": "code",
   "execution_count": 28,
   "metadata": {},
   "outputs": [],
   "source": [
    "def get_add_shelf(new_shelf):\n",
    "    if int(new_shelf) in range(1,4):\n",
    "        print('Такая полка уже есть!')\n",
    "    else:\n",
    "        new_shelf_dict = {new_shelf: []}\n",
    "        directories.update(new_shelf_dict)\n",
    "        print('Полка добавлена.')"
   ]
  },
  {
   "cell_type": "code",
   "execution_count": 33,
   "metadata": {},
   "outputs": [
    {
     "name": "stdout",
     "output_type": "stream",
     "text": [
      "Полка добавлена.\n"
     ]
    }
   ],
   "source": [
    "get_add_shelf(4)"
   ]
  },
  {
   "cell_type": "code",
   "execution_count": 34,
   "metadata": {},
   "outputs": [
    {
     "data": {
      "text/plain": [
       "{'1': ['2207 876234', '11-2'], '2': ['10006'], '3': [], 4: []}"
      ]
     },
     "execution_count": 34,
     "metadata": {},
     "output_type": "execute_result"
    }
   ],
   "source": [
    "directories"
   ]
  },
  {
   "cell_type": "code",
   "execution_count": 37,
   "metadata": {},
   "outputs": [],
   "source": [
    "def get_del_doc(doc_number):\n",
    "    break_marker = False\n",
    "    for document in documents:\n",
    "        if document['number'] == doc_number:\n",
    "            document['number'] = 'Удален'\n",
    "            for directory_value in directories.values():\n",
    "                if doc_number in directory_value:\n",
    "                    directory_value.remove(doc_number)\n",
    "                    print('Документ удален из каталога и полок')\n",
    "                    break_marker = True\n",
    "                    break\n",
    "            if break_marker == True:\n",
    "                break\n",
    "    else:\n",
    "        print('Документ отсутствует')"
   ]
  },
  {
   "cell_type": "code",
   "execution_count": 38,
   "metadata": {},
   "outputs": [
    {
     "name": "stdout",
     "output_type": "stream",
     "text": [
      "Документ отсутствует\n"
     ]
    }
   ],
   "source": [
    "get_del_doc('11111')"
   ]
  },
  {
   "cell_type": "code",
   "execution_count": 39,
   "metadata": {},
   "outputs": [],
   "source": [
    "def main():\n",
    "    while True:\n",
    "        user_input=input('Введите команду: ')\n",
    "        if user_input=='p':\n",
    "            doc_by_number=input('Введите номер документа: ')\n",
    "            get_people_doc_by_number(doc_by_number)\n",
    "        elif user_input=='s':\n",
    "            shell_doc_by_number=input('Введите номер документа: ')\n",
    "            get_shelf_by_number(shell_doc_by_number)\n",
    "        elif user_input=='l':\n",
    "            get_all_doc()\n",
    "        elif user_input=='as':\n",
    "            new_shelf=input('Введите номер полки: ')\n",
    "            get_add_shelf(new_shelf)\n",
    "        elif user_input=='d':\n",
    "            doc_number=input('Введите номер документа, который нужно удалить: ')\n",
    "            get_del_doc(doc_number)\n",
    "        elif user_input=='q':\n",
    "            print('By!')\n",
    "            break"
   ]
  },
  {
   "cell_type": "code",
   "execution_count": 40,
   "metadata": {},
   "outputs": [
    {
     "name": "stdout",
     "output_type": "stream",
     "text": [
      "Введите команду: з\n",
      "Введите команду: p\n",
      "Введите номер документа: 10006\n",
      "Аристарх Павлов\n",
      "Введите команду: s\n",
      "Введите номер документа: 11-2\n",
      "Документ на полке 1\n",
      "Введите команду: l\n",
      "passport \"2207 876234\" \"Василий Гупкин\"\n",
      "invoice \"11-2\" \"Геннадий Покемонов\"\n",
      "insurance \"10006\" \"Аристарх Павлов\"\n",
      "Введите команду: as\n",
      "Введите номер полки: 5\n",
      "Полка добавлена.\n",
      "Введите команду: d\n",
      "Введите номер документа, который нужно удалить: 1\n",
      "Документ отсутствует\n",
      "Введите команду: d\n",
      "Введите номер документа, который нужно удалить: 11-2\n",
      "Документ удален из каталога и полок\n",
      "Введите команду: q\n",
      "By!\n"
     ]
    }
   ],
   "source": [
    "main()"
   ]
  },
  {
   "cell_type": "code",
   "execution_count": 41,
   "metadata": {},
   "outputs": [
    {
     "data": {
      "text/plain": [
       "[{'type': 'passport', 'number': '2207 876234', 'name': 'Василий Гупкин'},\n",
       " {'type': 'invoice', 'number': 'Удален', 'name': 'Геннадий Покемонов'},\n",
       " {'type': 'insurance', 'number': '10006', 'name': 'Аристарх Павлов'}]"
      ]
     },
     "execution_count": 41,
     "metadata": {},
     "output_type": "execute_result"
    }
   ],
   "source": [
    "documents"
   ]
  },
  {
   "cell_type": "code",
   "execution_count": 42,
   "metadata": {},
   "outputs": [
    {
     "data": {
      "text/plain": [
       "{'1': ['2207 876234'], '2': ['10006'], '3': [], 4: [], '4': [], '5': []}"
      ]
     },
     "execution_count": 42,
     "metadata": {},
     "output_type": "execute_result"
    }
   ],
   "source": [
    "directories"
   ]
  },
  {
   "cell_type": "code",
   "execution_count": null,
   "metadata": {},
   "outputs": [],
   "source": [
    "#последние 2 команды - слишком сложно, простите\n"
   ]
  }
 ],
 "metadata": {
  "kernelspec": {
   "display_name": "Python 3",
   "language": "python",
   "name": "python3"
  },
  "language_info": {
   "codemirror_mode": {
    "name": "ipython",
    "version": 3
   },
   "file_extension": ".py",
   "mimetype": "text/x-python",
   "name": "python",
   "nbconvert_exporter": "python",
   "pygments_lexer": "ipython3",
   "version": "3.7.3"
  }
 },
 "nbformat": 4,
 "nbformat_minor": 2
}
