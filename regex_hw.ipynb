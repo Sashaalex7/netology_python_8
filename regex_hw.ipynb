{
 "cells": [
  {
   "cell_type": "code",
   "execution_count": 1,
   "metadata": {},
   "outputs": [],
   "source": [
    "import re"
   ]
  },
  {
   "cell_type": "markdown",
   "metadata": {},
   "source": [
    "**Задание 1.** Напишите функцию, которая принимает на вход строку и проверяет является ли она валидным транспортным номером. Если да, то функция должна возвращать отдельно номер и регион."
   ]
  },
  {
   "cell_type": "code",
   "execution_count": 74,
   "metadata": {},
   "outputs": [],
   "source": [
    "#номера машин\n",
    "#начинается с буквы\n",
    "#3 цифры\n",
    "#2 буквы\n",
    "#2 или 3 цифры:\n",
    "auto_numbers=['a111aa150','d111dd25','s11ss127']"
   ]
  },
  {
   "cell_type": "code",
   "execution_count": 75,
   "metadata": {},
   "outputs": [
    {
     "data": {
      "text/plain": [
       "['a111aa150', 'd111dd25']"
      ]
     },
     "execution_count": 75,
     "metadata": {},
     "output_type": "execute_result"
    }
   ],
   "source": [
    "re.findall(r'[a-z]{1}[0-9]{3}[a-z]{2}[0-9]{2,3}',str(auto_numbers))"
   ]
  },
  {
   "cell_type": "code",
   "execution_count": 85,
   "metadata": {},
   "outputs": [
    {
     "data": {
      "text/plain": [
       "[]"
      ]
     },
     "execution_count": 85,
     "metadata": {},
     "output_type": "execute_result"
    }
   ],
   "source": [
    "re.findall(r'([0-9]{2,3}$)',str(auto_numbers))"
   ]
  },
  {
   "cell_type": "code",
   "execution_count": 86,
   "metadata": {},
   "outputs": [],
   "source": [
    "regex_auto_number='[a-z]{1}[0-9]{3}[a-z]{2}[0-9]{2,3}'"
   ]
  },
  {
   "cell_type": "code",
   "execution_count": 93,
   "metadata": {},
   "outputs": [],
   "source": [
    "def get_auto_number(auto_number):\n",
    "    regex_auto_number='[a-z]{1}[0-9]{3}[a-z]{2}[0-9]{2,3}'\n",
    "    regex_number='[a-z]{1}[0-9]{3}[a-z]{2}'\n",
    "    regex_region='([0-9]{2,3}$)'\n",
    "    if re.search(regex_auto_number,str(auto_number)):\n",
    "        print(re.findall(regex_number,str(auto_number)),re.findall(regex_region,str(auto_number)))\n",
    "    else:\n",
    "        print('The auto_number {} is invalid number'.format(auto_number))  "
   ]
  },
  {
   "cell_type": "code",
   "execution_count": 91,
   "metadata": {},
   "outputs": [
    {
     "name": "stdout",
     "output_type": "stream",
     "text": [
      "The auto_number s11ss127 is invalid number\n"
     ]
    }
   ],
   "source": [
    "get_auto_number('s11ss127')"
   ]
  },
  {
   "cell_type": "code",
   "execution_count": 94,
   "metadata": {},
   "outputs": [
    {
     "name": "stdout",
     "output_type": "stream",
     "text": [
      "['d111dd'] ['25']\n"
     ]
    }
   ],
   "source": [
    "get_auto_number('d111dd25')"
   ]
  },
  {
   "cell_type": "markdown",
   "metadata": {},
   "source": [
    "**Задание 2**. Напишите функцию, которая проверяет e-mail адрес на валидность по стандарту RFC822: http://www.w3.org/Protocols/rfc822/. Для этого постарайтесь написать (в крайнем случае найти) самый полный шаблон для проверки e-mail адресов через регулярное выражение. Разберитесь и напишите примеры, какие ваш шаблон может не охватить."
   ]
  },
  {
   "cell_type": "code",
   "execution_count": 4,
   "metadata": {},
   "outputs": [],
   "source": [
    "regrex_hell=\"([A-Za-z0-9!#$%&'.*+/=?^_`{|}~]+@[a-z0-9][\\w\\.-]*[a-z0-9]\\.[a-z][a-z\\.]*[a-z]$)\""
   ]
  },
  {
   "cell_type": "code",
   "execution_count": 5,
   "metadata": {},
   "outputs": [],
   "source": [
    "emails=['Sas*ha11alex7@yandex.ru','1/11AFTret/yakova@gmal.com','10/ATre.tyakova@v1l.ru','10/ATre.tyakova_v1l.ru']"
   ]
  },
  {
   "cell_type": "code",
   "execution_count": 7,
   "metadata": {},
   "outputs": [],
   "source": [
    "def check_valid_email(emails_list):\n",
    "    for email in emails_list:\n",
    "        if re.search(regrex_hell,str(email)):\n",
    "            print('The email {} is a valid email'.format(email))\n",
    "        else:\n",
    "            print('The email {} is invalid email'.format(email))  "
   ]
  },
  {
   "cell_type": "code",
   "execution_count": 8,
   "metadata": {},
   "outputs": [
    {
     "name": "stdout",
     "output_type": "stream",
     "text": [
      "The email Sas*ha11alex7@yandex.ru is a valid email\n",
      "The email 1/11AFTret/yakova@gmal.com is a valid email\n",
      "The email 10/ATre.tyakova@v1l.ru is a valid email\n",
      "The email 10/ATre.tyakova_v1l.ru is invalid email\n"
     ]
    }
   ],
   "source": [
    "#вроде работает\n",
    "check_valid_email(emails)"
   ]
  },
  {
   "cell_type": "markdown",
   "metadata": {},
   "source": [
    "**Задание 3.** Напишите функцию, которая будет удалять все последовательные повторы слов из заданной строки при помощи регулярных выражений."
   ]
  },
  {
   "cell_type": "code",
   "execution_count": 2,
   "metadata": {},
   "outputs": [],
   "source": [
    "s = \"Январь Февраль Март Март Апрель\""
   ]
  },
  {
   "cell_type": "code",
   "execution_count": 9,
   "metadata": {},
   "outputs": [],
   "source": [
    "def remove_duplicate(string):\n",
    "    print( re.sub(r'\\b([^\\W\\d_]+)(\\s+\\1)+\\b', r'\\1', re.sub(r'\\W+', ' ', string).strip(), flags=re.I) )"
   ]
  },
  {
   "cell_type": "code",
   "execution_count": 10,
   "metadata": {},
   "outputs": [
    {
     "name": "stdout",
     "output_type": "stream",
     "text": [
      "Январь Февраль Март Апрель\n"
     ]
    }
   ],
   "source": [
    "remove_duplicate(s)"
   ]
  },
  {
   "cell_type": "markdown",
   "metadata": {},
   "source": [
    "**Задание 4**. Напишите функцию, которая будет проверять номер сотового телефона на валидность, если он валиден, то переводить его в формат:   \n",
    "+7(xxx)-xxx-xx-xx  \n",
    "Постарайтесь предусмотреть как можно больше адекватных форматов изначального ввода номера.\n",
    "Примеры валидных форматов:\n",
    "- +7 955 555-55-55;\n",
    "- 9555555555;\n",
    "- 8(955)555-55-55;\n",
    "- +7 955 555 55 55;\n",
    "- 7(955) 555-55-55;\n",
    "- +7 955+555+55+55.\n",
    "критерии валидности:\n",
    "начинается с +7 или с 8\n",
    "содержит 11 цифр"
   ]
  },
  {
   "cell_type": "code",
   "execution_count": 45,
   "metadata": {},
   "outputs": [],
   "source": [
    "tel1=['+7 955 555-55-55','9555555555','8(955)555-55-55','+7 955 555 55 55','7(955) 555-55-55','+7 955+555+55+55']"
   ]
  },
  {
   "cell_type": "code",
   "execution_count": 53,
   "metadata": {},
   "outputs": [],
   "source": [
    "regex_tel='([8|\\+7][\\(|\\s]\\d{3}[\\)|\\s|\\+]\\d{3}[\\-|\\s|+]\\d{2}[\\-|\\s|+]\\d{2})'"
   ]
  },
  {
   "cell_type": "code",
   "execution_count": 61,
   "metadata": {},
   "outputs": [
    {
     "data": {
      "text/plain": [
       "['7 955 555-55-55', '8(955)555-55-55', '7 955 555 55 55', '7 955+555+55+55']"
      ]
     },
     "execution_count": 61,
     "metadata": {},
     "output_type": "execute_result"
    }
   ],
   "source": [
    "re.findall(r'([8|\\+7][\\(|\\s]\\d{3}[\\)|\\s|\\+]\\d{3}[\\-|\\s|+]\\d{2}[\\-|\\s|+]\\d{2})',str(tel1))"
   ]
  },
  {
   "cell_type": "code",
   "execution_count": 62,
   "metadata": {},
   "outputs": [
    {
     "name": "stdout",
     "output_type": "stream",
     "text": [
      "The tel +7 955 555-55-55 is a valid tel\n",
      "The tel 9555555555 is invalid tel\n",
      "The tel 8(955)555-55-55 is a valid tel\n",
      "The tel +7 955 555 55 55 is a valid tel\n",
      "The tel 7(955) 555-55-55 is invalid tel\n",
      "The tel +7 955+555+55+55 is a valid tel\n"
     ]
    }
   ],
   "source": [
    "for tel in tel1:\n",
    "    if re.search(regex_tel,str(tel)):\n",
    "        print('The tel {} is a valid tel'.format(tel))\n",
    "    else:\n",
    "        print('The tel {} is invalid tel'.format(tel))  "
   ]
  },
  {
   "cell_type": "code",
   "execution_count": 56,
   "metadata": {},
   "outputs": [
    {
     "data": {
      "text/plain": [
       "<re.Match object; span=(3, 18), match='7 955 555-55-55'>"
      ]
     },
     "execution_count": 56,
     "metadata": {},
     "output_type": "execute_result"
    }
   ],
   "source": [
    "re.search(regex_tel,str(tel1))"
   ]
  },
  {
   "cell_type": "code",
   "execution_count": 11,
   "metadata": {},
   "outputs": [],
   "source": [
    "regex_tel2='((8\\\\s?|\\\\+?7\\\\s?)?(\\\\(?[\\\\t\\f ]?(\\\\d{3,7}|\\\\-)\\\\s?\\\\)?)[\\\\s\\\\- –_\\\\*]?(\\\\d+(([\\\\- –_\\\\*]{1,3})?\\\\d+)+))'"
   ]
  },
  {
   "cell_type": "code",
   "execution_count": null,
   "metadata": {},
   "outputs": [],
   "source": [
    "'+7(555)-555-55-55'"
   ]
  },
  {
   "cell_type": "code",
   "execution_count": 38,
   "metadata": {},
   "outputs": [
    {
     "data": {
      "text/plain": [
       "'79555555555'"
      ]
     },
     "execution_count": 38,
     "metadata": {},
     "output_type": "execute_result"
    }
   ],
   "source": [
    "re.sub(r'[\\s|\\+|\\-|\\(|\\)]','','+7 955+555+55+55')"
   ]
  },
  {
   "cell_type": "code",
   "execution_count": 51,
   "metadata": {},
   "outputs": [
    {
     "data": {
      "text/plain": [
       "'+7 (955)-555-55-55'"
      ]
     },
     "execution_count": 51,
     "metadata": {},
     "output_type": "execute_result"
    }
   ],
   "source": [
    "re.sub(r'(\\d{1})(\\d{3})(\\d{3})(\\d{2})(\\d{2})', r'+\\1 (\\2)-\\3-\\4-\\5', re.sub(r'[\\s|\\+|\\-|\\(|\\)]','','+7 955+555+55+55'))"
   ]
  },
  {
   "cell_type": "code",
   "execution_count": 47,
   "metadata": {},
   "outputs": [
    {
     "name": "stdout",
     "output_type": "stream",
     "text": [
      "The tel +7 955 555-55-55 is a valid tel\n",
      "The tel 9555555555 is a valid tel\n",
      "The tel 8(955)555-55-55 is a valid tel\n",
      "The tel +7 955 555 55 55 is a valid tel\n",
      "The tel 7(955) 555-55-55 is a valid tel\n",
      "The tel +7 955+555+55+55 is invalid tel\n"
     ]
    }
   ],
   "source": [
    "for tel in tel1:\n",
    "    if re.search(regex_tel2,str(tel)):\n",
    "        print('The tel {} is a valid tel'.format(tel))\n",
    "    else:\n",
    "        print('The tel {} is invalid tel'.format(tel))  "
   ]
  },
  {
   "cell_type": "code",
   "execution_count": 54,
   "metadata": {},
   "outputs": [
    {
     "name": "stdout",
     "output_type": "stream",
     "text": [
      "+7 (955)-555-55-55\n",
      "The tel 9555555555 is invalid tel\n",
      "+8 (955)-555-55-55\n",
      "+7 (955)-555-55-55\n",
      "+7 (955)-555-55-55\n"
     ]
    }
   ],
   "source": [
    "for tel in tel1:\n",
    "    test_format=0\n",
    "    if re.search(regex_tel2,str(tel)):\n",
    "        test_format=re.sub(r'[\\s|\\+|\\-|\\(|\\)]','',tel)\n",
    "        if len(str(test_format))==11:\n",
    "            print(re.sub(r'(\\d{1})(\\d{3})(\\d{3})(\\d{2})(\\d{2})', r'+\\1 (\\2)-\\3-\\4-\\5', str(test_format)))\n",
    "        else:\n",
    "            print('The tel {} is invalid tel'.format(tel))  "
   ]
  },
  {
   "cell_type": "code",
   "execution_count": 55,
   "metadata": {},
   "outputs": [],
   "source": [
    "#не дошло, как поменять первую восьмерку и почему последний номер вылетает из проверки"
   ]
  },
  {
   "cell_type": "code",
   "execution_count": null,
   "metadata": {},
   "outputs": [],
   "source": []
  }
 ],
 "metadata": {
  "kernelspec": {
   "display_name": "Python 3",
   "language": "python",
   "name": "python3"
  },
  "language_info": {
   "codemirror_mode": {
    "name": "ipython",
    "version": 3
   },
   "file_extension": ".py",
   "mimetype": "text/x-python",
   "name": "python",
   "nbconvert_exporter": "python",
   "pygments_lexer": "ipython3",
   "version": "3.7.3"
  }
 },
 "nbformat": 4,
 "nbformat_minor": 2
}
