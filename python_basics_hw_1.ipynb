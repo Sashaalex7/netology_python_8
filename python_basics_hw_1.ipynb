{
 "cells": [
  {
   "cell_type": "markdown",
   "metadata": {},
   "source": [
    "**Задание 1**. Даны 2 строки: *long_phrase* и *short_phrase*. \n",
    "Напишите код, который проверяет действительно ли длинная фраза *long_phrase* длиннее короткой *short_phrase*. И выводит *True* или *False* в зависимости от результата сравнения."
   ]
  },
  {
   "cell_type": "code",
   "execution_count": 2,
   "metadata": {},
   "outputs": [],
   "source": [
    "long_phrase = 'Насколько проще было бы писать программы, если бы не заказчики'\n",
    "short_phrase = '640Кб должно хватить для любых задач. Билл Гейтс (по легенде)'"
   ]
  },
  {
   "cell_type": "code",
   "execution_count": 3,
   "metadata": {},
   "outputs": [
    {
     "data": {
      "text/plain": [
       "True"
      ]
     },
     "execution_count": 3,
     "metadata": {},
     "output_type": "execute_result"
    }
   ],
   "source": [
    "len(long_phrase)>len(short_phrase)"
   ]
  },
  {
   "cell_type": "markdown",
   "metadata": {},
   "source": [
    "**Задание 2**. Дано значение объема файла в байтах (*в мегабайте 2^20 байт*). Напишите перевод этого значения в мегабайты в формате: \"*Объем файла равен 213.68Mb*\"."
   ]
  },
  {
   "cell_type": "code",
   "execution_count": 8,
   "metadata": {},
   "outputs": [
    {
     "name": "stdout",
     "output_type": "stream",
     "text": [
      "Введите объем файла в байтах: 2543535435\n",
      "Объем файла равен:  2425.70 Mb\n"
     ]
    }
   ],
   "source": [
    "mb=2**20\n",
    "bt=float(input('Введите объем файла в байтах: '))\n",
    "print(f'Объем файла равен:  {bt/mb:.2f} Mb')\n"
   ]
  },
  {
   "cell_type": "markdown",
   "metadata": {},
   "source": [
    "**Задание 3**. Разработать приложение для определения знака зодиака по дате рождения. Пример:\n",
    "\n",
    "Введите месяц: март\n",
    "\n",
    "Введите число: 6\n",
    "\n",
    "Вывод:\n",
    "Рыбы"
   ]
  },
  {
   "cell_type": "code",
   "execution_count": 10,
   "metadata": {},
   "outputs": [
    {
     "name": "stdout",
     "output_type": "stream",
     "text": [
      "Введите месяц: май\n",
      "Введите число: 28\n",
      "близнецы\n"
     ]
    }
   ],
   "source": [
    "month = input('Введите месяц: ')\n",
    "date=int(input('Введите число: '))\n",
    "if month=='март' and date>=21 and date<=31:\n",
    "    print(\"овен\")\n",
    "elif month=='апрель' and date>=1 and date<=20:\n",
    "    print(\"овен\")\n",
    "elif month=='апрель' and date>=21 and date<=31:\n",
    "    print(\"телец\")\n",
    "elif month=='май' and date>=1 and date<=20:\n",
    "    print(\"телец\")\n",
    "elif month=='май' and date>=21 and date<=31:\n",
    "    print(\"близнецы\")\n",
    "elif month=='июнь' and date>=1 and date<=21:\n",
    "    print(\"близнецы\")\n",
    "elif month=='июнь' and date>=22 and date<=31:\n",
    "    print(\"PAK\")\n",
    "elif month=='июль' and date>=1 and date<=22:\n",
    "    print(\"PAK\")\n",
    "elif month=='июль' and date>=23 and date<=31:\n",
    "    print(\"лев\")\n",
    "elif month=='август' and wdate>=1 and date<=23:\n",
    "    print(\"лев\")\n",
    "elif month=='август' and date>=24 and date<=31:\n",
    "    print(\"дека\")\n",
    "elif month=='сентябрь' and date>=1 and date<=23:\n",
    "    print(\"дева\")\n",
    "elif month=='сентябрь' and date>=24 and date<=31:\n",
    "    print(\"весы\")\n",
    "elif month=='октябрь' and date>=1 and date<=23:\n",
    "    print(\"весы\")\n",
    "elif month=='октябрь' and date>=24 and date<=31:\n",
    "    print(\"скорпион\")\n",
    "elif month=='ноябрь' and date>=1 and date<=22:\n",
    "    print(\"скорпион\")\n",
    "elif month=='ноябрь' and date>=23 and date<=31:\n",
    "    print(\"стрелец\")\n",
    "elif month=='декабрь' and date>=1 and date<=21:\n",
    "    print(\"стрелец\")\n",
    "elif month=='декабрь' and date>=22 and date<=31:\n",
    "    print(\"козерог\")\n",
    "elif month=='январь' and date>=1 and date<=20:\n",
    "    print(\"козерог\")\n",
    "elif month=='январь' and date>=21 and date<=31:\n",
    "    print(\"водолей\")\n",
    "elif month=='февраль' and date>=1 and date<=20:\n",
    "    print(\"водолей\")\n",
    "elif month=='февраль' and date>=21 and date<=31:\n",
    "    print(\"рыбы\")\n",
    "elif month=='март' and date>=1 and date<=20:\n",
    "    print(\"рыбы\")"
   ]
  },
  {
   "cell_type": "markdown",
   "metadata": {},
   "source": [
    "**Задание 4**. Нужно разработать приложение для финансового планирования.\n",
    "Приложение учитывает сколько уходит на ипотеку, \"на жизнь\" и сколько нужно отложить на пенсию.\n",
    "Пользователь вводит:\n",
    "- заработанную плату в месяц.\n",
    "- сколько процентов от ЗП уходит на ипотеку.\n",
    "- сколько процентов от ЗП уходит \"на жизнь\".\n",
    "- сколько раз приходит премия в год.\n",
    "\n",
    "Остальная часть заработанной платы откладывается на пенсию.\n",
    "\n",
    "Также пользователю приходит премия в размере зарплаты, от которой половина уходит на отпуск, а вторая половина откладывается.\n",
    "\n",
    "Программа должна учитывать сколько премий было в год.\n",
    "\n",
    "Нужно вывести сколько денег тратит пользователь на ипотеку и сколько он накопит за год.\n",
    "\n",
    "Пример:\n",
    "\n",
    "Введите заработанную плату в месяц: 100000\n",
    "\n",
    "Введите сколько процентов уходит на ипотеку: 30\n",
    "\n",
    "Введите сколько процентов уходит на жизнь: 50\n",
    "\n",
    "Введите количество премий за год: 2\n",
    "\n",
    "Вывод:\n",
    "На ипотеку было потрачено: 360000 рублей\n",
    "Было накоплено: 340000 рублей"
   ]
  },
  {
   "cell_type": "code",
   "execution_count": 18,
   "metadata": {},
   "outputs": [
    {
     "name": "stdout",
     "output_type": "stream",
     "text": [
      "Введите заработанную плату в месяц: 100000\n",
      "Введите сколько процентов уходит на ипотеку: 30\n",
      "Введите сколько процентов уходит на жизнь: 50\n",
      "Введите количество премий за год: 2\n",
      "На ипотеку было потрачено:  360000.0 рублей\n",
      "Было накоплено:  340000.0 рублей\n"
     ]
    }
   ],
   "source": [
    "salary = int(input('Введите заработанную плату в месяц: '))\n",
    "mortgage_per=int(input('Введите сколько процентов уходит на ипотеку: '))\n",
    "expenses_per = int(input('Введите сколько процентов уходит на жизнь: '))\n",
    "bonus_cnt=int(input('Введите количество премий за год: '))\n",
    "\n",
    "year_salary=salary*12\n",
    "mortgage=mortgage_per/100*year_salary\n",
    "bonus=bonus_cnt*salary\n",
    "expenses=expenses_per/100*year_salary\n",
    "save_money=year_salary-mortgage+bonus/2-expenses\n",
    "print('На ипотеку было потрачено: ', mortgage, 'рублей')\n",
    "print('Было накоплено: ', save_money, 'рублей')"
   ]
  },
  {
   "cell_type": "code",
   "execution_count": null,
   "metadata": {},
   "outputs": [],
   "source": []
  },
  {
   "cell_type": "code",
   "execution_count": null,
   "metadata": {},
   "outputs": [],
   "source": []
  },
  {
   "cell_type": "code",
   "execution_count": null,
   "metadata": {},
   "outputs": [],
   "source": []
  },
  {
   "cell_type": "code",
   "execution_count": null,
   "metadata": {},
   "outputs": [],
   "source": []
  },
  {
   "cell_type": "code",
   "execution_count": null,
   "metadata": {},
   "outputs": [],
   "source": []
  },
  {
   "cell_type": "code",
   "execution_count": null,
   "metadata": {},
   "outputs": [],
   "source": []
  }
 ],
 "metadata": {
  "kernelspec": {
   "display_name": "Python 3",
   "language": "python",
   "name": "python3"
  },
  "language_info": {
   "codemirror_mode": {
    "name": "ipython",
    "version": 3
   },
   "file_extension": ".py",
   "mimetype": "text/x-python",
   "name": "python",
   "nbconvert_exporter": "python",
   "pygments_lexer": "ipython3",
   "version": "3.7.3"
  }
 },
 "nbformat": 4,
 "nbformat_minor": 2
}
